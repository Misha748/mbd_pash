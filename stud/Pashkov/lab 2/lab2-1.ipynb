{
 "cells": [
  {
   "cell_type": "markdown",
   "metadata": {},
   "source": [
    "# Лабораторная работа 2 (Задача кластеризация)\n",
    "\n",
    "Цель: научится применять модели кластеризации библиотеки scikit-learn к набору эмпирических данных\n",
    "\n",
    "Дано: excel-файл\n",
    "\n",
    "Результат: число кластеров, обученная модель\n",
    "\n",
    "Ход выполнения: \n",
    "1. Загрузить данные из файла (использовать библиотеку Pandas).\n",
    "2. Визуализировать загруженные данные (диаграмма рассеяния).\n",
    "3. Оценить число групп (кластеров).\n",
    "4. Выбрать модель кластеризации.\n",
    "5. Обучить модель кластеризации на обучающих данных.\n",
    "6. Проверить качество полученной модели на тестовых данных.\n",
    "7. Визуализировать результат."
   ]
  },
  {
   "cell_type": "markdown",
   "metadata": {},
   "source": [
    "Загрузка данных из файла, используя библиотку Pandas."
   ]
  },
  {
   "cell_type": "code",
   "execution_count": 22,
   "metadata": {},
   "outputs": [
    {
     "name": "stdout",
     "output_type": "stream",
     "text": [
      "            0         1\n",
      "0   -2.821290 -2.506902\n",
      "1   -4.577314  3.376976\n",
      "2   -0.668452 -5.993891\n",
      "3    6.914893 -5.013008\n",
      "4   -3.273829 -0.410760\n",
      "..        ...       ...\n",
      "995 -5.576958  6.945886\n",
      "996 -6.825178  2.764418\n",
      "997 -4.017693 -2.902564\n",
      "998 -0.920891 -5.339821\n",
      "999 -6.658367  2.110250\n",
      "\n",
      "[1000 rows x 2 columns]\n"
     ]
    }
   ],
   "source": [
    "import pandas as pd\n",
    "import numpy as py\n",
    "\n",
    "df = pd.read_excel ('lab2-09.xlsx')\n",
    "#y = pd.read_excel ('lab2-09.xlsx', usecols = 2)\n",
    "print (df)"
   ]
  },
  {
   "cell_type": "markdown",
   "metadata": {},
   "source": [
    "Визуализация загруженных данных (диаграмма рассеяния)"
   ]
  },
  {
   "cell_type": "code",
   "execution_count": null,
   "metadata": {},
   "outputs": [],
   "source": [
    "import matplotlib.pyplot as plt\n",
    "\n",
    "fix, ax = plt.subplots() #Возвращает 2 объекта. fix - Canva рисования. ax - Система координат.\n",
    "ax.scatter (x, y, 1) #Отрисовка графика.(x и y - вектора). scatter - диаграмма рассеивания.\n",
    "#ax.grid()\n",
    "plt.title ('Visualization of uploaded data')\n",
    "plt.show ()"
   ]
  }
 ],
 "metadata": {
  "kernelspec": {
   "display_name": "Python 3",
   "language": "python",
   "name": "python3"
  },
  "language_info": {
   "codemirror_mode": {
    "name": "ipython",
    "version": 3
   },
   "file_extension": ".py",
   "mimetype": "text/x-python",
   "name": "python",
   "nbconvert_exporter": "python",
   "pygments_lexer": "ipython3",
   "version": "3.12.0"
  }
 },
 "nbformat": 4,
 "nbformat_minor": 2
}
